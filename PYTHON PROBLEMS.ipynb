{
 "cells": [
  {
   "cell_type": "code",
   "execution_count": 2,
   "id": "needed-heavy",
   "metadata": {},
   "outputs": [
    {
     "name": "stdout",
     "output_type": "stream",
     "text": [
      "var\n",
      "var is a keyword\n"
     ]
    }
   ],
   "source": [
    "#1.Keyword or not:\n",
    "keywords = ['break', 'case', 'continue', 'default', 'defer', 'else', 'for', 'func', 'goto', 'if', 'map', 'range', 'return', 'struct', 'type', 'var']\n",
    "input_var = input()\n",
    "\n",
    "if input_var in keywords:\n",
    "    print(f'{input_var} is a keyword')\n",
    "else:\n",
    "    print(f'{input_var} is not a keyword')"
   ]
  },
  {
   "cell_type": "code",
   "execution_count": 10,
   "id": "outstanding-overhead",
   "metadata": {},
   "outputs": [
    {
     "name": "stdout",
     "output_type": "stream",
     "text": [
      "1A\n",
      "27\n"
     ]
    }
   ],
   "source": [
    "#2.Given a maximum of four digit to the base 17 (10 – A, 11 – B, 12 – C, 13 – D … 16 – G} as input, output its decimal value.\n",
    "\n",
    "input1 = str(input())\n",
    "print(int(input1, 17))"
   ]
  },
  {
   "cell_type": "code",
   "execution_count": 11,
   "id": "departmental-typing",
   "metadata": {},
   "outputs": [],
   "source": [
    "#3.A boy first turns and travels 10 units of distance  (like in a graph) : (0,0)\n",
    "# His second turn is upward for 20 units\n",
    "# Third turn is to the left for 30 units\n",
    "# Fourth turn is the downward for 40 units\n",
    "# Fifth turn is to the right(again) for 50 units\n",
    "# … And thus he travels, every time increasing the travel distance by 10 units.\n",
    "\n",
    "# Case 1\n",
    "# Input : 3\n",
    "# Expected Output :-20 20\n",
    "# Case 2\n",
    "# Input: 4\n",
    "# Expected Output: -20 -20\n",
    "# Case 3\n",
    "# Input : 5\n",
    "# Expected Output : 30 -20"
   ]
  },
  {
   "cell_type": "code",
   "execution_count": 4,
   "id": "progressive-maryland",
   "metadata": {},
   "outputs": [
    {
     "name": "stdout",
     "output_type": "stream",
     "text": [
      "7\n",
      "90 50\n"
     ]
    }
   ],
   "source": [
    "num = int(input())\n",
    "C = 'R'\n",
    "dist = 10\n",
    "x,y = 0,0\n",
    "\n",
    "for i in range(num):\n",
    "    if C == 'R':\n",
    "        x = x + dist\n",
    "        C = \"U\" \n",
    "        dist = dist + 10\n",
    "    elif C == 'U':\n",
    "        y = y + dist\n",
    "        C = \"L\"\n",
    "        dist = dist + 10\n",
    "    elif C == 'L':\n",
    "        x = x - dist\n",
    "        C = \"D\"\n",
    "        dist = dist + 10\n",
    "    elif C == 'D':\n",
    "        y = y - dist\n",
    "        C = \"A\"\n",
    "        dist = dist + 10\n",
    "    elif C == \"A\":\n",
    "        x = x + dist\n",
    "        C = \"R\"\n",
    "        dist = dist + 10\n",
    "print(x, y)\n",
    "        \n"
   ]
  },
  {
   "cell_type": "code",
   "execution_count": 58,
   "id": "missing-rugby",
   "metadata": {},
   "outputs": [
    {
     "name": "stdout",
     "output_type": "stream",
     "text": [
      "1010\n",
      "A\n"
     ]
    }
   ],
   "source": [
    "#BIN TO HEX:\n",
    "num5 = int(input(), 2)\n",
    "print(str(hex(num5).replace('0x', \"\")).upper())"
   ]
  },
  {
   "cell_type": "code",
   "execution_count": 60,
   "id": "italic-province",
   "metadata": {},
   "outputs": [
    {
     "name": "stdout",
     "output_type": "stream",
     "text": [
      "1010\n",
      "10\n"
     ]
    }
   ],
   "source": [
    "#BIN TO DEC:\n",
    "num6 = int(input(), 2)\n",
    "print(int(num5))"
   ]
  },
  {
   "cell_type": "code",
   "execution_count": 62,
   "id": "civil-cotton",
   "metadata": {},
   "outputs": [
    {
     "name": "stdout",
     "output_type": "stream",
     "text": [
      "1010\n",
      "12\n"
     ]
    }
   ],
   "source": [
    "#BIN TO OCT:\n",
    "num6 = int(input(), 2)\n",
    "print(oct(num6).replace('0o', \"\"))"
   ]
  },
  {
   "cell_type": "code",
   "execution_count": 66,
   "id": "tamil-jacob",
   "metadata": {},
   "outputs": [
    {
     "name": "stdout",
     "output_type": "stream",
     "text": [
      "10\n",
      "1010\n"
     ]
    }
   ],
   "source": [
    "#DEC TO BIN:\n",
    "num7 = int(input())\n",
    "print(bin(num7).replace(\"0b\", \"\"))"
   ]
  },
  {
   "cell_type": "code",
   "execution_count": 67,
   "id": "tamil-interim",
   "metadata": {},
   "outputs": [
    {
     "name": "stdout",
     "output_type": "stream",
     "text": [
      "10\n",
      "12\n"
     ]
    }
   ],
   "source": [
    "#DEC TO OCT:\n",
    "num8 = int(input())\n",
    "print(oct(num8).replace(\"0o\", \"\"))"
   ]
  },
  {
   "cell_type": "code",
   "execution_count": 69,
   "id": "introductory-compact",
   "metadata": {},
   "outputs": [
    {
     "name": "stdout",
     "output_type": "stream",
     "text": [
      "10\n",
      "A\n"
     ]
    }
   ],
   "source": [
    "# DEC TO HEX:\n",
    "num9 = int(input())\n",
    "print(str(hex(num9).replace('0x', \"\")).upper())"
   ]
  },
  {
   "cell_type": "code",
   "execution_count": 71,
   "id": "opening-yugoslavia",
   "metadata": {},
   "outputs": [
    {
     "name": "stdout",
     "output_type": "stream",
     "text": [
      "10\n",
      "1000\n"
     ]
    }
   ],
   "source": [
    "#OCT TO BIN:\n",
    "num10 = int(input(), 8)\n",
    "print(bin(num10).replace(\"0b\", \"\"))"
   ]
  },
  {
   "cell_type": "code",
   "execution_count": 74,
   "id": "bizarre-person",
   "metadata": {},
   "outputs": [
    {
     "name": "stdout",
     "output_type": "stream",
     "text": [
      "10\n",
      "8\n"
     ]
    }
   ],
   "source": [
    "#OCT TO DEC:\n",
    "num11 = int(input(), 8)\n",
    "print(int(num11))"
   ]
  },
  {
   "cell_type": "code",
   "execution_count": 77,
   "id": "lucky-eating",
   "metadata": {},
   "outputs": [
    {
     "name": "stdout",
     "output_type": "stream",
     "text": [
      "10\n",
      "8\n"
     ]
    }
   ],
   "source": [
    "#OCT TO HEX:\n",
    "num12 = int(input(), 8)\n",
    "print(hex(num12).replace('0x', \"\"))"
   ]
  },
  {
   "cell_type": "code",
   "execution_count": 79,
   "id": "judicial-bronze",
   "metadata": {},
   "outputs": [
    {
     "name": "stdout",
     "output_type": "stream",
     "text": [
      "A\n",
      "1010\n"
     ]
    }
   ],
   "source": [
    "#HEX TO BIN:\n",
    "num13 = int(input(), 16)\n",
    "print(bin(num13).replace('0b', \"\"))"
   ]
  },
  {
   "cell_type": "code",
   "execution_count": 80,
   "id": "refined-significance",
   "metadata": {},
   "outputs": [
    {
     "name": "stdout",
     "output_type": "stream",
     "text": [
      "A\n",
      "10\n"
     ]
    }
   ],
   "source": [
    "#HEX TO DEC:\n",
    "num14 = int(input(), 16)\n",
    "print(int(num14))"
   ]
  },
  {
   "cell_type": "code",
   "execution_count": 81,
   "id": "defensive-connectivity",
   "metadata": {},
   "outputs": [
    {
     "name": "stdout",
     "output_type": "stream",
     "text": [
      "A\n",
      "12\n"
     ]
    }
   ],
   "source": [
    "#HEX TO OCT:\n",
    "num15 = int(input(), 16)\n",
    "print(oct(num15).replace('0o', \"\"))"
   ]
  },
  {
   "cell_type": "code",
   "execution_count": 10,
   "id": "patient-guard",
   "metadata": {},
   "outputs": [
    {
     "name": "stdout",
     "output_type": "stream",
     "text": [
      "2020 is Leap Year\n",
      "2021 is not a leap year\n",
      "2000 is Leap Year\n"
     ]
    }
   ],
   "source": [
    "#LEAP YEAR: A year is a leap year if the following conditions are satisfied: \n",
    "\n",
    "# The year is multiple of 400.\n",
    "# The year is multiple of 4 and not multiple of 100.\n",
    "\n",
    "def isleap(year):\n",
    "    print(f\"{year} is Leap Year\" if (year % 400 == 0 or (year % 4 == 0 and year % 100 != 0)) else (f\"{year} is not a leap year\"))\n",
    "\n",
    "isleap(2020)\n",
    "isleap(2021)\n",
    "isleap(2000)\n"
   ]
  },
  {
   "cell_type": "code",
   "execution_count": 22,
   "id": "operational-pacific",
   "metadata": {},
   "outputs": [
    {
     "name": "stdout",
     "output_type": "stream",
     "text": [
      "1520.73\n"
     ]
    }
   ],
   "source": [
    "#AREA OF CIRCLE:\n",
    "def find_area(r):\n",
    "    print(f'{3.142 * r * r :.2f}')\n",
    "find_area(22)"
   ]
  },
  {
   "cell_type": "code",
   "execution_count": 2,
   "id": "unlimited-treaty",
   "metadata": {},
   "outputs": [
    {
     "name": "stdout",
     "output_type": "stream",
     "text": [
      "4\n"
     ]
    }
   ],
   "source": [
    "#AREA OF A TRIANGLE:\n",
    "def triangle(b, h):\n",
    "    print(int(0.5 * b * h))\n",
    "triangle(2, 4)"
   ]
  },
  {
   "cell_type": "code",
   "execution_count": 30,
   "id": "proprietary-ivory",
   "metadata": {},
   "outputs": [
    {
     "name": "stdout",
     "output_type": "stream",
     "text": [
      "123454321\n",
      "True\n"
     ]
    }
   ],
   "source": [
    "# TO CHECK IF THE NUMBER IS A PALINDROME OR NOT:\n",
    "test_number = int(input())\n",
    "res = str(test_number) == str(test_number)[::-1]\n",
    "print(str(res))"
   ]
  },
  {
   "cell_type": "code",
   "execution_count": 31,
   "id": "civic-pledge",
   "metadata": {},
   "outputs": [
    {
     "data": {
      "text/plain": [
       "[8, 7, 6, 5, 4, 3, 2, 1]"
      ]
     },
     "execution_count": 31,
     "metadata": {},
     "output_type": "execute_result"
    }
   ],
   "source": [
    "a = [1, 2, 3, 4, 5, 6, 7, 8]\n",
    "a[::-1]"
   ]
  },
  {
   "cell_type": "code",
   "execution_count": 41,
   "id": "timely-dairy",
   "metadata": {},
   "outputs": [
    {
     "data": {
      "text/plain": [
       "True"
      ]
     },
     "execution_count": 41,
     "metadata": {},
     "output_type": "execute_result"
    }
   ],
   "source": [
    "c = 'Malayalam'\n",
    "c = c.lower()\n",
    "b = c[::-1]\n",
    "c == b"
   ]
  },
  {
   "cell_type": "code",
   "execution_count": 49,
   "id": "varying-chain",
   "metadata": {},
   "outputs": [
    {
     "name": "stdout",
     "output_type": "stream",
     "text": [
      "151\n",
      "151 is a palindrome\n"
     ]
    }
   ],
   "source": [
    "def ispalindrome(n):\n",
    "    print(f'{n} is a palindrome' if str(n) == str(n[::-1]) else '{n} is not a palindrome')\n",
    "n = str(input())\n",
    "ispalindrome(n)"
   ]
  },
  {
   "cell_type": "code",
   "execution_count": 1,
   "id": "possible-fairy",
   "metadata": {},
   "outputs": [],
   "source": [
    "#PRIME OR NOT:\n",
    "def isprime(num):\n",
    "    if num == 1 or num == 0:\n",
    "        print(num, \"is neither prime nor a composite no\")\n",
    "    else:\n",
    "        for i in range(2, num // 2):\n",
    "            if num % i == 0:\n",
    "                print(num, \"is not prime\")\n",
    "                break\n",
    "        else:\n",
    "            print(num, \"is prime\")  "
   ]
  },
  {
   "cell_type": "code",
   "execution_count": 2,
   "id": "generic-eight",
   "metadata": {},
   "outputs": [
    {
     "name": "stdout",
     "output_type": "stream",
     "text": [
      "246 is not prime\n"
     ]
    }
   ],
   "source": [
    "isprime(246)"
   ]
  },
  {
   "cell_type": "code",
   "execution_count": 6,
   "id": "disciplinary-operator",
   "metadata": {},
   "outputs": [
    {
     "name": "stdout",
     "output_type": "stream",
     "text": [
      "12345678\n",
      "87654321\n"
     ]
    }
   ],
   "source": [
    "#REVERSING A NUMBER:\n",
    "num = input()\n",
    "print(num[::-1])"
   ]
  },
  {
   "cell_type": "code",
   "execution_count": 8,
   "id": "governmental-bangkok",
   "metadata": {
    "scrolled": true
   },
   "outputs": [
    {
     "name": "stdout",
     "output_type": "stream",
     "text": [
      "25\n",
      "5\n"
     ]
    }
   ],
   "source": [
    "#SQRT WITHOUT MATH.SQRT():\n",
    "n = int(input())\n",
    "print(int(n ** (1/2)))"
   ]
  },
  {
   "cell_type": "code",
   "execution_count": 39,
   "id": "informal-offer",
   "metadata": {},
   "outputs": [
    {
     "name": "stdout",
     "output_type": "stream",
     "text": [
      "10\n",
      "20\n",
      "Prime number is : 11 and its square root is 3.32\n",
      "Prime number is : 13 and its square root is 3.61\n",
      "Prime number is : 17 and its square root is 4.12\n",
      "Prime number is : 19 and its square root is 4.36\n"
     ]
    }
   ],
   "source": [
    "# SQRT OF PRIME NUMBERS FROM A GIVEN RANGE:\n",
    "import math\n",
    "num1, num2 = int(input()), int(input())\n",
    "\n",
    "for n in range(num1, num2 + 1):\n",
    "    \n",
    "    for i in range(2, n):\n",
    "        \n",
    "        if n % i  == 0:\n",
    "            break\n",
    "    else:\n",
    "        print(f'Prime number is : {n} and its square root is{(math.sqrt(n)) : .2f}')\n"
   ]
  },
  {
   "cell_type": "code",
   "execution_count": 62,
   "id": "bottom-cross",
   "metadata": {},
   "outputs": [],
   "source": [
    "# NTH FIBONACCI NUMBER:\n",
    "fibarr = [1 ,1]\n",
    "def fibo(n):\n",
    "    if n < 0:\n",
    "        print(\"Provide a valid input\")\n",
    "    elif n <= len(fibarr):\n",
    "        return fibarr[n - 1]\n",
    "    else:\n",
    "        temp = fibo(n - 1) + fibo(n - 2)\n",
    "        fibarr.append(temp)\n",
    "        return temp"
   ]
  },
  {
   "cell_type": "code",
   "execution_count": 66,
   "id": "confidential-decimal",
   "metadata": {},
   "outputs": [
    {
     "data": {
      "text/plain": [
       "55"
      ]
     },
     "execution_count": 66,
     "metadata": {},
     "output_type": "execute_result"
    }
   ],
   "source": [
    "fibo(10)"
   ]
  },
  {
   "cell_type": "code",
   "execution_count": 82,
   "id": "whole-hacker",
   "metadata": {},
   "outputs": [
    {
     "name": "stdout",
     "output_type": "stream",
     "text": [
      "1234\n",
      "10\n"
     ]
    }
   ],
   "source": [
    "# SUM OF ALL THE DIGITS:\n",
    "num = input()\n",
    "sum1 = 0\n",
    "for i in num:\n",
    "    sum1 += int(i)\n",
    "print(sum1)"
   ]
  },
  {
   "cell_type": "code",
   "execution_count": 87,
   "id": "changed-traffic",
   "metadata": {},
   "outputs": [
    {
     "data": {
      "text/plain": [
       "15.0"
      ]
     },
     "execution_count": 87,
     "metadata": {},
     "output_type": "execute_result"
    }
   ],
   "source": [
    "# AVERAGE OF 2 NOS:\n",
    "def avg(n1, n2):\n",
    "    return (n1 + n2) / 2\n",
    "avg(10, 20)"
   ]
  },
  {
   "cell_type": "code",
   "execution_count": 88,
   "id": "above-triangle",
   "metadata": {},
   "outputs": [
    {
     "data": {
      "text/plain": [
       "55"
      ]
     },
     "execution_count": 88,
     "metadata": {},
     "output_type": "execute_result"
    }
   ],
   "source": [
    "#NTH FIBO:\n",
    "fibarr = [1, 1]\n",
    "def fibo(n):\n",
    "    if n < 0:\n",
    "        print(\"Provide a valid input\")\n",
    "    elif n <= len(fibarr):\n",
    "        return fibarr[n - 1]\n",
    "    else:\n",
    "        temp = fibo(n - 1) + fibo(n - 2)\n",
    "        fibarr.append(temp)\n",
    "        return temp\n",
    "fibo(10)        "
   ]
  },
  {
   "cell_type": "code",
   "execution_count": 9,
   "id": "suspended-buffalo",
   "metadata": {},
   "outputs": [],
   "source": [
    "# GCD AND LCM OF 2 NOS:\n",
    "def gcd(a, b):\n",
    "    if a == 0:\n",
    "        return b\n",
    "    return gcd(b % a, a)\n",
    "def lcm(a, b):\n",
    "    return int(a / gcd(a, b) * b)"
   ]
  },
  {
   "cell_type": "code",
   "execution_count": 10,
   "id": "enhanced-ontario",
   "metadata": {},
   "outputs": [
    {
     "data": {
      "text/plain": [
       "60"
      ]
     },
     "execution_count": 10,
     "metadata": {},
     "output_type": "execute_result"
    }
   ],
   "source": [
    "lcm(15, 20)"
   ]
  },
  {
   "cell_type": "code",
   "execution_count": 98,
   "id": "checked-costume",
   "metadata": {},
   "outputs": [
    {
     "name": "stdout",
     "output_type": "stream",
     "text": [
      "23\n",
      "45\n",
      "45 is greater\n"
     ]
    }
   ],
   "source": [
    "#GREATEST OF TWO NO:\n",
    "n1, n2 = int(input()), int(input())\n",
    "if n1 > n2:\n",
    "    print(f'{n1} is greater')\n",
    "else:\n",
    "    print(f'{n2} is greater')"
   ]
  },
  {
   "cell_type": "code",
   "execution_count": 99,
   "id": "secret-accessory",
   "metadata": {},
   "outputs": [
    {
     "name": "stdout",
     "output_type": "stream",
     "text": [
      "navaneeth\n",
      "hteenavan\n"
     ]
    }
   ],
   "source": [
    "#STRING REVERSAL:\n",
    "text = input()\n",
    "print(text[::-1])"
   ]
  },
  {
   "cell_type": "code",
   "execution_count": 25,
   "id": "agreed-handling",
   "metadata": {},
   "outputs": [
    {
     "name": "stdout",
     "output_type": "stream",
     "text": [
      "34\n",
      "54\n",
      "54 34\n"
     ]
    }
   ],
   "source": [
    "#SWAPPING TWO NOS:\n",
    "a, b = int(input()), int(input())\n",
    "a, b = b, a\n",
    "print(a, b)"
   ]
  },
  {
   "cell_type": "code",
   "execution_count": 121,
   "id": "known-cattle",
   "metadata": {},
   "outputs": [
    {
     "name": "stdout",
     "output_type": "stream",
     "text": [
      "Fibonacci Series:\n",
      "0\n",
      "1\n",
      "1\n",
      "2\n",
      "3\n",
      "5\n",
      "8\n",
      "13\n",
      "21\n",
      "34\n",
      "55\n"
     ]
    }
   ],
   "source": [
    "#FIBONACCI SERIES:\n",
    "def fibo(n):\n",
    "    f1 = 0 \n",
    "    f2 = 1\n",
    "    \n",
    "    if n < 0:\n",
    "        return(\"Provide a valid number\")\n",
    "    elif n == 1:\n",
    "        print(f1)\n",
    "    else:\n",
    "        print(\"Fibonacci Series:\")\n",
    "        count = 0\n",
    "        while count < n:\n",
    "            print(f1)\n",
    "            f3 = f1 + f2\n",
    "            f1 = f2\n",
    "            f2 = f3\n",
    "            count += 1\n",
    "fibo(11)"
   ]
  },
  {
   "cell_type": "code",
   "execution_count": 136,
   "id": "environmental-conservative",
   "metadata": {},
   "outputs": [
    {
     "data": {
      "text/plain": [
       "120"
      ]
     },
     "execution_count": 136,
     "metadata": {},
     "output_type": "execute_result"
    }
   ],
   "source": [
    "#FACTORIAL OF A NO:\n",
    "def factorial(n):\n",
    "    if n < 0:\n",
    "        print(\"Provide a positive number\")\n",
    "    elif n == 0 or n == 1:\n",
    "        return 1\n",
    "    else:\n",
    "        fact = 1\n",
    "        while n > 1:\n",
    "            fact = fact * n\n",
    "            n -= 1\n",
    "        return fact\n",
    "factorial(5)"
   ]
  },
  {
   "cell_type": "code",
   "execution_count": 138,
   "id": "educational-crossing",
   "metadata": {},
   "outputs": [
    {
     "data": {
      "text/plain": [
       "120"
      ]
     },
     "execution_count": 138,
     "metadata": {},
     "output_type": "execute_result"
    }
   ],
   "source": [
    "import math\n",
    "def facto(n):\n",
    "    return math.factorial(n)\n",
    "facto(5)"
   ]
  },
  {
   "cell_type": "code",
   "execution_count": 140,
   "id": "interpreted-membership",
   "metadata": {},
   "outputs": [
    {
     "data": {
      "text/plain": [
       "120"
      ]
     },
     "execution_count": 140,
     "metadata": {},
     "output_type": "execute_result"
    }
   ],
   "source": [
    "def fac(n):\n",
    "    return 1 if (n == 1 or n == 0) else n * fac(n - 1)\n",
    "fac(5)"
   ]
  },
  {
   "cell_type": "code",
   "execution_count": 169,
   "id": "prerequisite-philip",
   "metadata": {},
   "outputs": [
    {
     "data": {
      "text/plain": [
       "True"
      ]
     },
     "execution_count": 169,
     "metadata": {},
     "output_type": "execute_result"
    }
   ],
   "source": [
    "# SPECIAL 2 DIGIT NO:\n",
    "def special(n):\n",
    "    if not n < 100 and n > 9:\n",
    "        print(\"Provide a 2 digit number.\")\n",
    "    else:\n",
    "        first = n // 10 #(for getting 1st no in the input)\n",
    "        last = n % 10   #(for getting last no in the input)\n",
    "        sum1 = first + last\n",
    "        mul = first * last\n",
    "    return (sum1 + mul) == n\n",
    "special(19)"
   ]
  },
  {
   "cell_type": "code",
   "execution_count": 165,
   "id": "worse-applicant",
   "metadata": {},
   "outputs": [
    {
     "name": "stdout",
     "output_type": "stream",
     "text": [
      "1\n",
      "5\n"
     ]
    }
   ],
   "source": [
    "print(15 // 10)\n",
    "print(15 % 10)"
   ]
  },
  {
   "cell_type": "code",
   "execution_count": 168,
   "id": "annual-glucose",
   "metadata": {},
   "outputs": [
    {
     "name": "stdout",
     "output_type": "stream",
     "text": [
      "19\n",
      "29\n",
      "39\n",
      "49\n",
      "59\n",
      "69\n",
      "79\n",
      "89\n",
      "99\n"
     ]
    }
   ],
   "source": [
    "# ALL SPECIAL 2 DIGIT NOS:\n",
    "def allspecial():\n",
    "    for i in range(10, 100):\n",
    "        first = i // 10 #(for getting 1st no in the input)\n",
    "        last = i % 10   #(for getting last no in the input)\n",
    "        sum1 = first + last\n",
    "        mul = first * last\n",
    "        if (sum1 + mul == i):\n",
    "            print(i)\n",
    "allspecial()"
   ]
  },
  {
   "cell_type": "code",
   "execution_count": 178,
   "id": "initial-midnight",
   "metadata": {},
   "outputs": [
    {
     "data": {
      "text/plain": [
       "True"
      ]
     },
     "execution_count": 178,
     "metadata": {},
     "output_type": "execute_result"
    }
   ],
   "source": [
    "#ARMSTRONG NUMBER:\n",
    "\n",
    "def order(x):\n",
    "    n = 0\n",
    "    while x != 0:\n",
    "        n = n + 1\n",
    "        x = x // 10\n",
    "    return n\n",
    "def armstrong(x):\n",
    "    n = order(x)\n",
    "    temp = x\n",
    "    sum1 = 0\n",
    "    while temp != 0:\n",
    "        r = temp % 10\n",
    "        sum1 = sum1 + pow(r, n)\n",
    "        temp = temp // 10\n",
    "    return sum1 == x\n",
    "armstrong(153)"
   ]
  },
  {
   "cell_type": "code",
   "execution_count": 190,
   "id": "rough-linux",
   "metadata": {},
   "outputs": [
    {
     "data": {
      "text/plain": [
       "False"
      ]
     },
     "execution_count": 190,
     "metadata": {},
     "output_type": "execute_result"
    }
   ],
   "source": [
    "# GIVEN NUMBER IS FIBONACCI OR NOT:\n",
    "import math\n",
    "def isperfecto(n):\n",
    "    s = int(math.sqrt(n))\n",
    "    return (s * s == n)\n",
    "def fibo(n):\n",
    "    return (isperfecto(5 * n*n + 4) or (isperfecto(5 * n*n - 4)))\n",
    "fibo(30)"
   ]
  },
  {
   "cell_type": "code",
   "execution_count": 18,
   "id": "sixth-arkansas",
   "metadata": {},
   "outputs": [
    {
     "name": "stdout",
     "output_type": "stream",
     "text": [
      "135\n",
      "135 is a disarium number\n"
     ]
    }
   ],
   "source": [
    "#DISARIUM NUMBER : EG : 1^1 + 3^2 + 5^3 = 135\n",
    "def isdisarium(x):\n",
    "    sum1 = 0\n",
    "    temp = x\n",
    "    n = len(str(x))\n",
    "    while temp != 0:\n",
    "        r = temp % 10\n",
    "        sum1 += pow(r, n)\n",
    "        temp = temp // 10\n",
    "        n -= 1\n",
    "        \n",
    "    print(f'{x} is a disarium number' if sum1 == x else '{n} is not a disarium number')\n",
    "        \n",
    "    \n",
    "x = int(input())\n",
    "isdisarium(x)"
   ]
  },
  {
   "cell_type": "code",
   "execution_count": 5,
   "id": "consistent-vault",
   "metadata": {},
   "outputs": [
    {
     "data": {
      "text/plain": [
       "(3, 15)"
      ]
     },
     "execution_count": 5,
     "metadata": {},
     "output_type": "execute_result"
    }
   ],
   "source": [
    "153 % 10, 153 // 10"
   ]
  },
  {
   "cell_type": "markdown",
   "id": "proud-acceptance",
   "metadata": {},
   "source": [
    "1.There is a JAR full of candies for sale at a mall counter. JAR has the capacity N, that is JAR can contain \n",
    "maximum N candies when JAR is full. At any point of time. JAR can have M number of Candies where M<=N. \n",
    "Candies are served to the customers. JAR is never remain empty as when last k candies are left. \n",
    "JAR if refilled with new candies in such a way that JAR get full.\n",
    "\n",
    "Write a code to implement above scenario. Display JAR at counter with available number of candies. \n",
    "Input should be the number of candies one customer can order at point of time. Update the JAR after each purchase \n",
    "and display JAR at Counter.\n",
    "\n",
    "Output should give number of Candies sold and updated number of Candies in JAR.\n",
    "\n",
    "If Input is more than candies in JAR, return: “INVALID INPUT”"
   ]
  },
  {
   "cell_type": "code",
   "execution_count": 28,
   "id": "czech-bread",
   "metadata": {},
   "outputs": [
    {
     "name": "stdout",
     "output_type": "stream",
     "text": [
      "8\n",
      "NUMBER OF CANDIES SOLD:8\n",
      "NUMBER OF CANDIES AVAILABLE:2\n"
     ]
    }
   ],
   "source": [
    "#ASSUMING : TOTAL CANDIES N = 10\n",
    "# K CANDIES = 5 (WILL ALWAYS BE THERE IN JAR)\n",
    "i = int(input())\n",
    "n = 10\n",
    "k = 5\n",
    "if(i >n):\n",
    "    print('INVALID INPUT')\n",
    "    print('NUMBER OF CANDIES AVAILABLE:', end=\"\")\n",
    "    print(n)\n",
    "elif(i <= 0):\n",
    "    print(\"INVALID INPUT\")\n",
    "    print(\"NUMBER OF CANDIES AVAILABLE:\", end=\"\")\n",
    "    print(n)\n",
    "\n",
    "else:\n",
    "    print(\"NUMBER OF CANDIES SOLD:\", end=\"\")\n",
    "    print(i)\n",
    "    print(\"NUMBER OF CANDIES AVAILABLE:\", end=\"\")\n",
    "    print(n-i)"
   ]
  },
  {
   "cell_type": "code",
   "execution_count": 39,
   "id": "accessory-consensus",
   "metadata": {},
   "outputs": [
    {
     "ename": "TypeError",
     "evalue": "int() argument must be a string, a bytes-like object or a number, not 'method'",
     "output_type": "error",
     "traceback": [
      "\u001b[1;31m---------------------------------------------------------------------------\u001b[0m",
      "\u001b[1;31mTypeError\u001b[0m                                 Traceback (most recent call last)",
      "\u001b[1;32m<ipython-input-39-31c002040fdd>\u001b[0m in \u001b[0;36m<module>\u001b[1;34m\u001b[0m\n\u001b[1;32m----> 1\u001b[1;33m \u001b[0mtrainee1\u001b[0m \u001b[1;33m=\u001b[0m \u001b[1;33m[\u001b[0m\u001b[0mint\u001b[0m\u001b[1;33m(\u001b[0m\u001b[0minput\u001b[0m\u001b[1;33m)\u001b[0m \u001b[1;33m*\u001b[0m \u001b[1;36m3\u001b[0m\u001b[1;33m]\u001b[0m\u001b[1;33m\u001b[0m\u001b[1;33m\u001b[0m\u001b[0m\n\u001b[0m\u001b[0;32m      2\u001b[0m \u001b[0mtrainee2\u001b[0m \u001b[1;33m=\u001b[0m \u001b[1;33m[\u001b[0m\u001b[0mint\u001b[0m\u001b[1;33m(\u001b[0m\u001b[0minput\u001b[0m\u001b[1;33m)\u001b[0m \u001b[1;33m*\u001b[0m \u001b[1;36m3\u001b[0m\u001b[1;33m]\u001b[0m\u001b[1;33m\u001b[0m\u001b[1;33m\u001b[0m\u001b[0m\n\u001b[0;32m      3\u001b[0m \u001b[0mtrainee3\u001b[0m \u001b[1;33m=\u001b[0m \u001b[1;33m[\u001b[0m\u001b[0mint\u001b[0m\u001b[1;33m(\u001b[0m\u001b[0minput\u001b[0m\u001b[1;33m)\u001b[0m \u001b[1;33m*\u001b[0m \u001b[1;36m3\u001b[0m\u001b[1;33m]\u001b[0m\u001b[1;33m\u001b[0m\u001b[1;33m\u001b[0m\u001b[0m\n\u001b[0;32m      4\u001b[0m \u001b[1;32mdef\u001b[0m \u001b[0mavg\u001b[0m\u001b[1;33m(\u001b[0m\u001b[0marr\u001b[0m\u001b[1;33m)\u001b[0m\u001b[1;33m:\u001b[0m\u001b[1;33m\u001b[0m\u001b[1;33m\u001b[0m\u001b[0m\n\u001b[0;32m      5\u001b[0m     \u001b[1;32mreturn\u001b[0m \u001b[0mint\u001b[0m\u001b[1;33m(\u001b[0m\u001b[1;33m(\u001b[0m\u001b[0msum\u001b[0m\u001b[1;33m(\u001b[0m\u001b[0marr\u001b[0m\u001b[1;33m)\u001b[0m\u001b[1;33m)\u001b[0m \u001b[1;33m/\u001b[0m \u001b[0mlen\u001b[0m\u001b[1;33m(\u001b[0m\u001b[0marr\u001b[0m\u001b[1;33m)\u001b[0m\u001b[1;33m)\u001b[0m\u001b[1;33m\u001b[0m\u001b[1;33m\u001b[0m\u001b[0m\n",
      "\u001b[1;31mTypeError\u001b[0m: int() argument must be a string, a bytes-like object or a number, not 'method'"
     ]
    }
   ],
   "source": [
    "trainee1 = [int(input) * 3]\n",
    "trainee2 = [int(input) * 3]\n",
    "trainee3 = [int(input) * 3]\n",
    "def avg(arr):\n",
    "    return int((sum(arr)) / len(arr))\n",
    "t1 = avg(trainee1)\n",
    "t2 = avg(trainee2)\n",
    "t3 = avg(trainee3)\n",
    "if t1 > 70 and t2 > 70 and t3 > 70:\n",
    "    print(\"Trainee1 is eligible\")\n",
    "    print(\"Trainee2 is eligible\")\n",
    "    print(\"Trainee3 is eligible\")\n",
    "elif t1 > t2 > t3:\n",
    "    print(\"Trainee1 is eligible\")\n",
    "    print(\"Trainee2 is eligible\")"
   ]
  },
  {
   "cell_type": "code",
   "execution_count": 38,
   "id": "whole-tribe",
   "metadata": {},
   "outputs": [
    {
     "data": {
      "text/plain": [
       "217"
      ]
     },
     "execution_count": 38,
     "metadata": {},
     "output_type": "execute_result"
    }
   ],
   "source": [
    "95 + 92 + 90 // 3"
   ]
  },
  {
   "cell_type": "code",
   "execution_count": 37,
   "id": "monthly-ideal",
   "metadata": {},
   "outputs": [
    {
     "data": {
      "text/plain": [
       "212"
      ]
     },
     "execution_count": 37,
     "metadata": {},
     "output_type": "execute_result"
    }
   ],
   "source": [
    "92 + 90 + 92 // 3"
   ]
  },
  {
   "cell_type": "code",
   "execution_count": 36,
   "id": "owned-mobility",
   "metadata": {},
   "outputs": [
    {
     "data": {
      "text/plain": [
       "217"
      ]
     },
     "execution_count": 36,
     "metadata": {},
     "output_type": "execute_result"
    }
   ],
   "source": [
    "95 + 92 + 90 // 3"
   ]
  },
  {
   "cell_type": "code",
   "execution_count": 11,
   "id": "civil-export",
   "metadata": {},
   "outputs": [
    {
     "name": "stdout",
     "output_type": "stream",
     "text": [
      "100\n",
      "90\n",
      "90\n",
      "100\n",
      "90\n",
      "90\n",
      "100\n",
      "90\n",
      "90\n",
      "Trainee Number:  1\n"
     ]
    }
   ],
   "source": [
    "trainee = [[],[],[],[]]\n",
    "for i in range(3):\n",
    "\tfor j in range(3):\n",
    "    \t\ttrainee[i].append(int(input()))\n",
    "    \t\tif (trainee[i][-1]) not in range(1,101):\n",
    "        \t\t\tprint(\"invalid input\")\n",
    "for i in range(3):\n",
    "\ttrainee[3].append((trainee[2][i]+trainee[1][i]+trainee[0][i])//3)\n",
    "maximum = max(trainee[3])\n",
    "for i in range(3):\n",
    "\tif trainee[3][i] < 70 :\n",
    "    \t\tprint(\"Trainee {0} is unfit\".format(i+1))\n",
    "\telif trainee[3][i] == maximum:\n",
    "    \t\tprint(\"Trainee Number: \",i+1)"
   ]
  },
  {
   "cell_type": "code",
   "execution_count": null,
   "id": "civil-reasoning",
   "metadata": {},
   "outputs": [],
   "source": [
    "a =[[10]]\n",
    "a[0][1]"
   ]
  },
  {
   "cell_type": "markdown",
   "id": "awful-religion",
   "metadata": {},
   "source": [
    "Selection of MPCS exams include a fitness test which is conducted on ground. There will be a batch of 3 trainees, appearing for running test in track for 3 rounds. You need to record their oxygen level after every round. After trainee are finished with all rounds, calculate for each trainee his average oxygen level over the 3 rounds and select one with highest oxygen level as the most fit trainee. If more than one trainee attains the same highest average level, they all need to be selected.\n",
    "\n",
    "Display the most fit trainee (or trainees) and the highest average oxygen level.\n",
    "\n",
    "Note:\n",
    "\n",
    "The oxygen value entered should not be accepted if it is not in the range between 1 and 100.\n",
    "If the calculated maximum average oxygen value of trainees is below 70 then declare the trainees as unfit with meaningful message as “All trainees are unfit.\n",
    "Average Oxygen Values should be rounded."
   ]
  },
  {
   "cell_type": "code",
   "execution_count": 13,
   "id": "descending-location",
   "metadata": {},
   "outputs": [
    {
     "name": "stdout",
     "output_type": "stream",
     "text": [
      "100\n",
      "100\n",
      "100\n",
      "90\n",
      "90\n",
      "90\n",
      "80\n",
      "80\n",
      "80\n",
      "Trainee selected :  1\n",
      "Trainee selected :  2\n",
      "Trainee selected :  3\n"
     ]
    }
   ],
   "source": [
    "train = [[], [], []]\n",
    "avg = []\n",
    "for i in range(3):\n",
    "    for _ in range(3):\n",
    "        train[i].append(int(input()))\n",
    "        if train[i][-1] not in range(1, 101):\n",
    "            print(\"Invalid Input\")\n",
    "for i in range(3):\n",
    "    avg.append(train[2][i] + train[1][i] + train[0][i] // 3)\n",
    "maxi = max(avg)\n",
    "for i in range(3):\n",
    "    if avg[i] < 70:\n",
    "        print(f\"Trainee {i} is unfit\")\n",
    "    elif avg[i] == maxi:\n",
    "        print(\"Trainee selected : \", i + 1)"
   ]
  },
  {
   "cell_type": "markdown",
   "id": "documented-panel",
   "metadata": {},
   "source": [
    "For low level water, the time estimate is 25 minutes, where approximately weight is between 2000 grams or any nonzero positive number below that.\n",
    "\n",
    "For medium level water, the time estimate is 35 minutes, where approximately weight is between 2001 grams and 4000 grams.\n",
    "\n",
    "For high level water, the time estimate is 45 minutes, where approximately weight is above 4000 grams.\n",
    "Write a function which takes a numeric weight in the range [0,7000] as input and produces estimated time as output is: “OVERLOADED”, and for all other inputs, the output statement is\n",
    "\n",
    "“INVALID INPUT”.\n",
    "\n",
    "Input should be in the form of integer value –\n",
    "\n",
    "Output must have the following format –\n",
    "\n",
    "Time Estimated: Minutes\n",
    "\n",
    "Example:\n",
    "\n",
    "Input value\n",
    "\n",
    "2000\n",
    "\n",
    "Output value\n",
    "\n",
    "Time Estimated: 25 minutes\n"
   ]
  },
  {
   "cell_type": "code",
   "execution_count": 10,
   "id": "significant-oxygen",
   "metadata": {},
   "outputs": [
    {
     "name": "stdout",
     "output_type": "stream",
     "text": [
      "43\n",
      "Time Estimated : 25 minutes\n"
     ]
    }
   ],
   "source": [
    "n = int(input())\n",
    "if n == 0:\n",
    "    print(\"Time Estimated : 0 minutes\")\n",
    "elif n in range(1, 2001):\n",
    "    print(f'Time Estimated : {25} minutes')\n",
    "elif n in range(2001, 4001):\n",
    "    print(f'Time Estimated : {35} minutes')\n",
    "elif n in range(4001, 7001):\n",
    "    print(f'Time Estimated : {45} minutes')\n",
    "else:\n",
    "    print(\"INVALID INPUT\")\n"
   ]
  },
  {
   "cell_type": "markdown",
   "id": "material-preparation",
   "metadata": {},
   "source": [
    "Enter your PlainText: All the best\n",
    "\n",
    "Enter the Key: 1\n",
    "\n",
    "The encrypted Text is: Bmm uif Cftu\n",
    "\n",
    "Write a function CustomCaesarCipher(int key, String message) which will accept plaintext and key as input parameters and returns its cipher text as output."
   ]
  },
  {
   "cell_type": "code",
   "execution_count": null,
   "id": "focal-paste",
   "metadata": {},
   "outputs": [],
   "source": []
  },
  {
   "cell_type": "markdown",
   "id": "raising-advertiser",
   "metadata": {},
   "source": [
    "Problem Statement – An automobile company manufactures both a two wheeler (TW) and a four wheeler (FW). A company manager wants to make the production of both types of vehicle according to the given data below:\n",
    "\n",
    "1st data, Total number of vehicle (two-wheeler + four-wheeler)=v\n",
    "\n",
    "2nd data, Total number of wheels = W\n",
    " \n",
    "\n",
    "The task is to find how many two-wheelers as well as four-wheelers need to manufacture as per the given data."
   ]
  },
  {
   "cell_type": "code",
   "execution_count": 34,
   "id": "orange-arrival",
   "metadata": {},
   "outputs": [
    {
     "name": "stdout",
     "output_type": "stream",
     "text": [
      "2\n",
      "8\n",
      "TW=0 FW=2\n"
     ]
    }
   ],
   "source": [
    "V = int(input())\n",
    "W = int(input())\n",
    "if W < 2 or W <= V:\n",
    "    print('INVALID INPUT')\n",
    "else:\n",
    "    X = ((4 * V) - W) // 2\n",
    "    print(f\"TW={abs(X)} FW={abs(V - X)}\")"
   ]
  },
  {
   "cell_type": "code",
   "execution_count": null,
   "id": "liked-circuit",
   "metadata": {},
   "outputs": [],
   "source": []
  },
  {
   "cell_type": "code",
   "execution_count": 39,
   "id": "criminal-assignment",
   "metadata": {},
   "outputs": [
    {
     "name": "stdout",
     "output_type": "stream",
     "text": [
      "##**#*#*#**#\n",
      "0\n"
     ]
    }
   ],
   "source": [
    "text = input()\n",
    "a = 0; b = 0\n",
    "for i in text:\n",
    "    if i == \"*\":\n",
    "        a += 1\n",
    "    elif i == \"#\":\n",
    "        b +=1 \n",
    "print(a - b)"
   ]
  },
  {
   "cell_type": "code",
   "execution_count": 1,
   "id": "rolled-facial",
   "metadata": {},
   "outputs": [
    {
     "name": "stdout",
     "output_type": "stream",
     "text": [
      "$$$$$$$&&&&&&$&&&&&\n",
      "-3\n"
     ]
    }
   ],
   "source": [
    "text = input()\n",
    "a = 0; b = 0\n",
    "for i in text:\n",
    "    if i == \"$\":\n",
    "        a += 1\n",
    "    elif i == \"&\":\n",
    "        b += 1\n",
    "print(a - b)"
   ]
  },
  {
   "cell_type": "code",
   "execution_count": 11,
   "id": "chicken-voltage",
   "metadata": {},
   "outputs": [
    {
     "name": "stdout",
     "output_type": "stream",
     "text": [
      "1234521\n",
      "Not a Palindrome\n"
     ]
    }
   ],
   "source": [
    "a = input()\n",
    "print('Palindrome' if (a[::-1] == a) else \"Not a Palindrome\")"
   ]
  },
  {
   "cell_type": "code",
   "execution_count": 14,
   "id": "stuffed-hanging",
   "metadata": {},
   "outputs": [
    {
     "name": "stdout",
     "output_type": "stream",
     "text": [
      "49\n",
      "True\n"
     ]
    }
   ],
   "source": [
    "# special 2 digit no:\n",
    "\n",
    "n = int(input())\n",
    "\n",
    "if not n < 100 and n > 9:\n",
    "    print('enter a 2 digit no')\n",
    "else:\n",
    "    first = n % 10\n",
    "    second = n // 10\n",
    "    sum1 = first + second\n",
    "    prod = first * second\n",
    "    print(sum1 + prod == n)"
   ]
  },
  {
   "cell_type": "code",
   "execution_count": 27,
   "id": "opened-render",
   "metadata": {},
   "outputs": [],
   "source": [
    "def special(n1, n2):\n",
    "    \n",
    "        if n1 > n2:\n",
    "            return(\"1st number should be greater than 2nd number\")\n",
    "        \n",
    "        elif not n2 < 100 and n1 > 9:\n",
    "            return(\"Enter a 2 digit number\")\n",
    "        \n",
    "        for i in range(n1, n2 + 1):\n",
    "            if i > 9 and i < 100:\n",
    "                first = i % 10\n",
    "                second = i // 10\n",
    "                sum1 = first + second\n",
    "                prod = first * second\n",
    "                if sum1 + prod == i:\n",
    "                    print(i)"
   ]
  },
  {
   "cell_type": "code",
   "execution_count": 28,
   "id": "solar-publicity",
   "metadata": {},
   "outputs": [
    {
     "name": "stdout",
     "output_type": "stream",
     "text": [
      "19\n",
      "29\n",
      "39\n",
      "49\n",
      "59\n",
      "69\n",
      "79\n",
      "89\n",
      "99\n"
     ]
    }
   ],
   "source": [
    "special(1, 100)"
   ]
  },
  {
   "cell_type": "code",
   "execution_count": 81,
   "id": "geological-payroll",
   "metadata": {},
   "outputs": [],
   "source": [
    "#ARMSTRONG NUMBER : 153 = 1^3 + 5^3 + 3^3\n",
    "def order(x):\n",
    "    count = 0\n",
    "    while x != 0:\n",
    "        count += 1\n",
    "        x = x // 10\n",
    "    return count\n",
    "def armstrong(x):\n",
    "    temp =  x\n",
    "    n = order(x)\n",
    "    val = 0\n",
    "    while temp != 0:\n",
    "        rem = temp % 10\n",
    "        val += pow(rem, n)\n",
    "        temp = temp // 10\n",
    "    return val == x"
   ]
  },
  {
   "cell_type": "code",
   "execution_count": 82,
   "id": "efficient-trouble",
   "metadata": {},
   "outputs": [
    {
     "data": {
      "text/plain": [
       "True"
      ]
     },
     "execution_count": 82,
     "metadata": {},
     "output_type": "execute_result"
    }
   ],
   "source": [
    "armstrong(153)"
   ]
  },
  {
   "cell_type": "code",
   "execution_count": 2,
   "id": "ahead-practitioner",
   "metadata": {},
   "outputs": [],
   "source": [
    "#DESERIUM NUMBER : 135 = 1^1 + 3^2 + 5^3\n",
    "def digits(n):\n",
    "    count = 0\n",
    "    while n != 0:\n",
    "        count += 1\n",
    "        n = n // 10\n",
    "    return count\n",
    "def deserium(x):\n",
    "    p = digits(x)\n",
    "    temp = x\n",
    "    sum1 = 0\n",
    "    while x != 0:\n",
    "        rem = x % 10\n",
    "        sum1 += pow(rem, p)\n",
    "        p -= 1\n",
    "        x = x // 10\n",
    "    return sum1 == temp"
   ]
  },
  {
   "cell_type": "code",
   "execution_count": 3,
   "id": "written-shore",
   "metadata": {},
   "outputs": [
    {
     "data": {
      "text/plain": [
       "True"
      ]
     },
     "execution_count": 3,
     "metadata": {},
     "output_type": "execute_result"
    }
   ],
   "source": [
    "deserium(175)"
   ]
  },
  {
   "cell_type": "code",
   "execution_count": null,
   "id": "defined-andrew",
   "metadata": {},
   "outputs": [],
   "source": []
  },
  {
   "cell_type": "code",
   "execution_count": null,
   "id": "identical-distinction",
   "metadata": {},
   "outputs": [],
   "source": []
  },
  {
   "cell_type": "code",
   "execution_count": null,
   "id": "loved-legislature",
   "metadata": {},
   "outputs": [],
   "source": []
  },
  {
   "cell_type": "code",
   "execution_count": null,
   "id": "hungarian-affairs",
   "metadata": {},
   "outputs": [],
   "source": []
  },
  {
   "cell_type": "code",
   "execution_count": 4,
   "id": "german-seafood",
   "metadata": {},
   "outputs": [],
   "source": [
    "#Nth fibonacci no\n",
    "\n",
    "fibarr = [1, 1]\n",
    "\n",
    "def fibo(n):\n",
    "    if n < 0:\n",
    "        print('Enter a positive no')\n",
    "    elif n <= len(fibarr):\n",
    "        return fibarr[n - 1]\n",
    "    else:\n",
    "        temp = fibo(n - 1) + fibo(n - 2)\n",
    "        fibarr.append(temp)\n",
    "        return temp"
   ]
  },
  {
   "cell_type": "code",
   "execution_count": 5,
   "id": "analyzed-nirvana",
   "metadata": {},
   "outputs": [
    {
     "data": {
      "text/plain": [
       "55"
      ]
     },
     "execution_count": 5,
     "metadata": {},
     "output_type": "execute_result"
    }
   ],
   "source": [
    "fibo(10)"
   ]
  },
  {
   "cell_type": "code",
   "execution_count": 1,
   "id": "reported-hands",
   "metadata": {},
   "outputs": [
    {
     "name": "stdout",
     "output_type": "stream",
     "text": [
      "10\n",
      "20\n",
      "The prime numbers in the range are:\n",
      "11\n",
      "13\n",
      "17\n",
      "19\n"
     ]
    }
   ],
   "source": [
    "#PRIME NUMBER BETWEEN A RANGE:\n",
    "n1, n2 = int(input()), int(input())\n",
    "if n1 > n2:\n",
    "    print('Provide a valid range')\n",
    "    \n",
    "elif n2 == 0 or n2 == 1:\n",
    "    print('f{n2} is neither prime nor a composite number')\n",
    "\n",
    "else:\n",
    "    print(\"The prime numbers in the range are:\")\n",
    "    for num in range(n1, n2 + 1):\n",
    "        for i in range(2, num):\n",
    "            if num % i == 0:\n",
    "                break\n",
    "        else:\n",
    "            print(num)"
   ]
  },
  {
   "cell_type": "code",
   "execution_count": 23,
   "id": "cross-moisture",
   "metadata": {},
   "outputs": [],
   "source": [
    "#GCD AND LCM:\n",
    "\n",
    "def gcd(a, b):\n",
    "    if a == 0:\n",
    "        return b\n",
    "    return gcd(b % a, a)\n",
    "def lcm(a, b):\n",
    "    return int(a / gcd(a, b) * b)"
   ]
  },
  {
   "cell_type": "code",
   "execution_count": 24,
   "id": "former-cuisine",
   "metadata": {},
   "outputs": [
    {
     "data": {
      "text/plain": [
       "60"
      ]
     },
     "execution_count": 24,
     "metadata": {},
     "output_type": "execute_result"
    }
   ],
   "source": [
    "lcm(15, 20)"
   ]
  },
  {
   "cell_type": "code",
   "execution_count": null,
   "id": "opposed-greenhouse",
   "metadata": {},
   "outputs": [],
   "source": []
  },
  {
   "cell_type": "code",
   "execution_count": null,
   "id": "intended-milton",
   "metadata": {},
   "outputs": [],
   "source": []
  },
  {
   "cell_type": "code",
   "execution_count": null,
   "id": "limiting-distributor",
   "metadata": {},
   "outputs": [],
   "source": []
  },
  {
   "cell_type": "code",
   "execution_count": null,
   "id": "provincial-advertising",
   "metadata": {},
   "outputs": [],
   "source": []
  },
  {
   "cell_type": "code",
   "execution_count": null,
   "id": "processed-combine",
   "metadata": {},
   "outputs": [],
   "source": []
  },
  {
   "cell_type": "code",
   "execution_count": null,
   "id": "false-muslim",
   "metadata": {},
   "outputs": [],
   "source": []
  },
  {
   "cell_type": "code",
   "execution_count": null,
   "id": "dressed-belle",
   "metadata": {},
   "outputs": [],
   "source": []
  },
  {
   "cell_type": "code",
   "execution_count": null,
   "id": "velvet-welcome",
   "metadata": {},
   "outputs": [],
   "source": []
  },
  {
   "cell_type": "code",
   "execution_count": null,
   "id": "analyzed-arrangement",
   "metadata": {},
   "outputs": [],
   "source": []
  },
  {
   "cell_type": "code",
   "execution_count": null,
   "id": "irish-million",
   "metadata": {},
   "outputs": [],
   "source": []
  },
  {
   "cell_type": "code",
   "execution_count": null,
   "id": "champion-drinking",
   "metadata": {},
   "outputs": [],
   "source": []
  },
  {
   "cell_type": "code",
   "execution_count": null,
   "id": "compliant-venue",
   "metadata": {},
   "outputs": [],
   "source": []
  },
  {
   "cell_type": "code",
   "execution_count": null,
   "id": "processed-citizen",
   "metadata": {},
   "outputs": [],
   "source": []
  },
  {
   "cell_type": "code",
   "execution_count": null,
   "id": "imposed-anime",
   "metadata": {},
   "outputs": [],
   "source": []
  },
  {
   "cell_type": "code",
   "execution_count": null,
   "id": "selected-basketball",
   "metadata": {},
   "outputs": [],
   "source": []
  },
  {
   "cell_type": "code",
   "execution_count": null,
   "id": "burning-salmon",
   "metadata": {},
   "outputs": [],
   "source": []
  }
 ],
 "metadata": {
  "kernelspec": {
   "display_name": "Python 3",
   "language": "python",
   "name": "python3"
  },
  "language_info": {
   "codemirror_mode": {
    "name": "ipython",
    "version": 3
   },
   "file_extension": ".py",
   "mimetype": "text/x-python",
   "name": "python",
   "nbconvert_exporter": "python",
   "pygments_lexer": "ipython3",
   "version": "3.8.8"
  }
 },
 "nbformat": 4,
 "nbformat_minor": 5
}
